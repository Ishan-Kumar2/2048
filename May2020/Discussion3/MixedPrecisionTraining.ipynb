{
  "nbformat": 4,
  "nbformat_minor": 0,
  "metadata": {
    "colab": {
      "name": "MixedPrecisionTraining.ipynb",
      "provenance": [],
      "authorship_tag": "ABX9TyPgWorMjsgu+iew1Vscd4/n",
      "include_colab_link": true
    },
    "kernelspec": {
      "name": "python3",
      "display_name": "Python 3"
    }
  },
  "cells": [
    {
      "cell_type": "markdown",
      "metadata": {
        "id": "view-in-github",
        "colab_type": "text"
      },
      "source": [
        "<a href=\"https://colab.research.google.com/github/Ishan-Kumar2/2048/blob/master/May2020/Discussion3/MixedPrecisionTraining.ipynb\" target=\"_parent\"><img src=\"https://colab.research.google.com/assets/colab-badge.svg\" alt=\"Open In Colab\"/></a>"
      ]
    },
    {
      "cell_type": "code",
      "metadata": {
        "id": "6MSIFS10ogcV",
        "colab_type": "code",
        "colab": {}
      },
      "source": [
        "import torch\n",
        "import torch.nn as nn\n",
        "import torch.optim as optim\n"
      ],
      "execution_count": 0,
      "outputs": []
    },
    {
      "cell_type": "code",
      "metadata": {
        "id": "rMg6kTmyY_sH",
        "colab_type": "code",
        "colab": {}
      },
      "source": [
        "#Dataset download from https://github.com/multi30k/dataset"
      ],
      "execution_count": 0,
      "outputs": []
    },
    {
      "cell_type": "code",
      "metadata": {
        "id": "_K6Vr0FVX2YQ",
        "colab_type": "code",
        "colab": {}
      },
      "source": [
        "file1=open('./WMT/train.en','r')\n",
        "file2=open('./WMT/train.de','r')"
      ],
      "execution_count": 0,
      "outputs": []
    },
    {
      "cell_type": "code",
      "metadata": {
        "id": "G7o_HxrxX2dY",
        "colab_type": "code",
        "colab": {}
      },
      "source": [
        "def read_linewise_dataset(path):\n",
        "    file=open(path)\n",
        "    return file.read().split('\\n')"
      ],
      "execution_count": 0,
      "outputs": []
    },
    {
      "cell_type": "code",
      "metadata": {
        "id": "Ku4CSyD_X2gT",
        "colab_type": "code",
        "colab": {}
      },
      "source": [
        "english_path='./WMT/train.en'\n",
        "german_path='./WMT/train.de'\n",
        "\n",
        "english_dataset=read_linewise_dataset(english_path)\n",
        "german_dataset=read_linewise_dataset(german_path)"
      ],
      "execution_count": 0,
      "outputs": []
    },
    {
      "cell_type": "code",
      "metadata": {
        "id": "cnr7ysLpX2ua",
        "colab_type": "code",
        "colab": {}
      },
      "source": [
        "#Analysing Dataset\n",
        "english_dataset[0],german_dataset[0]"
      ],
      "execution_count": 0,
      "outputs": []
    },
    {
      "cell_type": "code",
      "metadata": {
        "id": "J6oLWtqvX2r3",
        "colab_type": "code",
        "colab": {}
      },
      "source": [
        "#Number of Datapoints\n",
        "len(english_dataset),len(german_dataset)"
      ],
      "execution_count": 0,
      "outputs": []
    },
    {
      "cell_type": "code",
      "metadata": {
        "id": "tOK5aXz2X2pG",
        "colab_type": "code",
        "colab": {}
      },
      "source": [
        "#!pip install tokenizers"
      ],
      "execution_count": 0,
      "outputs": []
    },
    {
      "cell_type": "code",
      "metadata": {
        "id": "tAbSZcfMX2mR",
        "colab_type": "code",
        "colab": {}
      },
      "source": [
        "from tokenizers import BertWordPieceTokenizer"
      ],
      "execution_count": 0,
      "outputs": []
    },
    {
      "cell_type": "code",
      "metadata": {
        "id": "NGwzqH5-X2jy",
        "colab_type": "code",
        "colab": {}
      },
      "source": [
        "from transformers import BertTokenizer\n",
        "tokenizer_eng=BertTokenizer.from_pretrained(\"bert-base-uncased\")\n",
        "enc=tokenizer_eng.encode(\"Hello There\")\n",
        "\n",
        "dec=tokenizer_eng.decode(enc)\n"
      ],
      "execution_count": 0,
      "outputs": []
    },
    {
      "cell_type": "code",
      "metadata": {
        "id": "ufCC8dybX2bL",
        "colab_type": "code",
        "colab": {}
      },
      "source": [
        "from transformers import BertTokenizer\n",
        "tokenizer_ger=BertTokenizer.from_pretrained(\"bert-base-german-cased\",\n",
        "                                       special_tokens=[\"[PAD]\", \"[UNK]\", \"[SOS]\", \"[EOS]\", \"[MASK]\"])\n",
        "enc=tokenizer_ger.encode(\"Zwei junge weiße Männer sind im Freien in der Nähe vieler Büsche.\")\n",
        "\n",
        "dec=tokenizer_ger.decode(enc)"
      ],
      "execution_count": 0,
      "outputs": []
    },
    {
      "cell_type": "code",
      "metadata": {
        "id": "QwF9GGmkYWP0",
        "colab_type": "code",
        "colab": {}
      },
      "source": [
        "class Dataset:\n",
        "    def __init__(self,sent_eng,sent_ger,tokenizer_eng,tokenizer_ger):\n",
        "        self.sent_eng=sent_eng\n",
        "        self.sent_ger=sent_ger\n",
        "        self.tokenize_eng=tokenizer_eng\n",
        "        self.tokenize_ger=tokenizer_ger\n",
        "        \n",
        "        self.processed_data_eng=[]\n",
        "        self.processed_data_ger=[]\n",
        "        \n",
        "        for i in range(len(self.sent_eng)):\n",
        "            self.processed_data_eng.append(self.tokenize_eng.encode(self.sent_eng[i]))\n",
        "            self.processed_data_ger.append(self.tokenize_ger.encode(self.sent_ger[i]))\n",
        "        \n",
        "        \n",
        "    def __len__(self):\n",
        "        return len(self.sent_eng)\n",
        "    \n",
        "    def __getitem__(self,item):\n",
        "        return [self.processed_data_eng[item],self.processed_data_ger[item]]"
      ],
      "execution_count": 0,
      "outputs": []
    },
    {
      "cell_type": "code",
      "metadata": {
        "id": "_o7MjECzYWTG",
        "colab_type": "code",
        "colab": {}
      },
      "source": [
        "dataset=Dataset(english_dataset,\n",
        "                german_dataset,\n",
        "               tokenizer_eng,\n",
        "               tokenizer_ger)"
      ],
      "execution_count": 0,
      "outputs": []
    },
    {
      "cell_type": "code",
      "metadata": {
        "id": "l6JY2k6-YWXK",
        "colab_type": "code",
        "colab": {}
      },
      "source": [
        ""
      ],
      "execution_count": 0,
      "outputs": []
    }
  ]
}